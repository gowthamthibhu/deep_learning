{
 "cells": [
  {
   "cell_type": "code",
   "execution_count": 1,
   "metadata": {},
   "outputs": [
    {
     "name": "stdout",
     "output_type": "stream",
     "text": [
      "Vector A: [1 2 3]\n",
      "Vector B: [4 5 6]\n",
      "Sum of Vectors: [5 7 9]\n"
     ]
    }
   ],
   "source": [
    "import tensorflow as tf\n",
    "\n",
    "# Step 1: Define Vectors\n",
    "vector_a = tf.constant([1, 2, 3], dtype=tf.int32)\n",
    "vector_b = tf.constant([4, 5, 6], dtype=tf.int32)\n",
    "\n",
    "# Step 2: Add Vectors\n",
    "vector_sum = tf.add(vector_a, vector_b)\n",
    "\n",
    "# Step 3: Execute and Output\n",
    "print(\"Vector A:\", vector_a.numpy())\n",
    "print(\"Vector B:\", vector_b.numpy())\n",
    "print(\"Sum of Vectors:\", vector_sum.numpy())\n"
   ]
  },
  {
   "cell_type": "code",
   "execution_count": null,
   "metadata": {},
   "outputs": [],
   "source": []
  }
 ],
 "metadata": {
  "kernelspec": {
   "display_name": "Python 3",
   "language": "python",
   "name": "python3"
  },
  "language_info": {
   "codemirror_mode": {
    "name": "ipython",
    "version": 3
   },
   "file_extension": ".py",
   "mimetype": "text/x-python",
   "name": "python",
   "nbconvert_exporter": "python",
   "pygments_lexer": "ipython3",
   "version": "3.12.4"
  }
 },
 "nbformat": 4,
 "nbformat_minor": 2
}
